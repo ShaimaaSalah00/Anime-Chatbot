{
 "cells": [
  {
   "cell_type": "code",
   "execution_count": 1,
   "id": "111b5766",
   "metadata": {},
   "outputs": [
    {
     "name": "stderr",
     "output_type": "stream",
     "text": [
      "[nltk_data] Downloading package punkt to\n",
      "[nltk_data]     C:\\Users\\omark\\AppData\\Roaming\\nltk_data...\n",
      "[nltk_data]   Package punkt is already up-to-date!\n",
      "[nltk_data] Downloading package stopwords to\n",
      "[nltk_data]     C:\\Users\\omark\\AppData\\Roaming\\nltk_data...\n",
      "[nltk_data]   Package stopwords is already up-to-date!\n"
     ]
    }
   ],
   "source": [
    "import pandas as pd\n",
    "import nltk\n",
    "from sklearn.feature_extraction.text import TfidfVectorizer\n",
    "from sklearn.metrics.pairwise import cosine_similarity\n",
    "\n",
    "# Download required NLTK resources\n",
    "nltk.download('punkt')\n",
    "nltk.download('stopwords')"
   ]
  },
  {
   "cell_type": "code",
   "execution_count": null,
   "id": "f381a32b",
   "metadata": {},
   "outputs": [],
   "source": [
    "# Load dataset\n",
    "df = pd.read_csv('AnimeQuotes.csv')"
   ]
  },
  {
   "cell_type": "code",
   "execution_count": 2,
   "id": "143c43b0",
   "metadata": {},
   "outputs": [
    {
     "data": {
      "text/html": [
       "<div>\n",
       "<style scoped>\n",
       "    .dataframe tbody tr th:only-of-type {\n",
       "        vertical-align: middle;\n",
       "    }\n",
       "\n",
       "    .dataframe tbody tr th {\n",
       "        vertical-align: top;\n",
       "    }\n",
       "\n",
       "    .dataframe thead th {\n",
       "        text-align: right;\n",
       "    }\n",
       "</style>\n",
       "<table border=\"1\" class=\"dataframe\">\n",
       "  <thead>\n",
       "    <tr style=\"text-align: right;\">\n",
       "      <th></th>\n",
       "      <th>Quote</th>\n",
       "      <th>Character</th>\n",
       "      <th>Anime</th>\n",
       "    </tr>\n",
       "  </thead>\n",
       "  <tbody>\n",
       "    <tr>\n",
       "      <th>0</th>\n",
       "      <td>People’s lives don’t end when they die, it end...</td>\n",
       "      <td>Itachi Uchiha</td>\n",
       "      <td>Naruto</td>\n",
       "    </tr>\n",
       "    <tr>\n",
       "      <th>1</th>\n",
       "      <td>If you don’t take risks, you can’t create a fu...</td>\n",
       "      <td>Monkey D Luffy</td>\n",
       "      <td>One Piece</td>\n",
       "    </tr>\n",
       "    <tr>\n",
       "      <th>2</th>\n",
       "      <td>If you don’t like your destiny, don’t accept it.</td>\n",
       "      <td>Naruto Uzumaki</td>\n",
       "      <td>Naruto</td>\n",
       "    </tr>\n",
       "    <tr>\n",
       "      <th>3</th>\n",
       "      <td>When you give up, that’s when the game ends.</td>\n",
       "      <td>Mitsuyoshi Anzai</td>\n",
       "      <td>Slam Dunk</td>\n",
       "    </tr>\n",
       "    <tr>\n",
       "      <th>4</th>\n",
       "      <td>All we can do is live until the day we die. Co...</td>\n",
       "      <td>Deneil Young</td>\n",
       "      <td>Uchuu Kyoudai or Space Brothers</td>\n",
       "    </tr>\n",
       "  </tbody>\n",
       "</table>\n",
       "</div>"
      ],
      "text/plain": [
       "                                               Quote         Character  \\\n",
       "0  People’s lives don’t end when they die, it end...     Itachi Uchiha   \n",
       "1  If you don’t take risks, you can’t create a fu...    Monkey D Luffy   \n",
       "2   If you don’t like your destiny, don’t accept it.    Naruto Uzumaki   \n",
       "3       When you give up, that’s when the game ends.  Mitsuyoshi Anzai   \n",
       "4  All we can do is live until the day we die. Co...      Deneil Young   \n",
       "\n",
       "                             Anime  \n",
       "0                           Naruto  \n",
       "1                        One Piece  \n",
       "2                           Naruto  \n",
       "3                        Slam Dunk  \n",
       "4  Uchuu Kyoudai or Space Brothers  "
      ]
     },
     "execution_count": 2,
     "metadata": {},
     "output_type": "execute_result"
    }
   ],
   "source": [
    "df.head()"
   ]
  },
  {
   "cell_type": "code",
   "execution_count": 3,
   "id": "461568d4",
   "metadata": {},
   "outputs": [
    {
     "data": {
      "text/plain": [
       "array(['Itachi Uchiha', 'Monkey D Luffy', 'Naruto Uzumaki',\n",
       "       'Mitsuyoshi Anzai', 'Deneil Young', 'Reiko Mikami', 'Nagato',\n",
       "       'Himura Kenshin', 'Natsu Dragneel', 'Juuzou Suzuya', 'Tsunade',\n",
       "       'Saitama', 'Seiya Kanie', 'Shintar Midorima', 'Seishuu Handa',\n",
       "       'Shiroe', 'Alucard', 'Kenshin Himura', 'Milly Thompson',\n",
       "       'Yuuya Mochizuki', 'Fuegoleon Vermillion', 'Hinata Miyake',\n",
       "       'Rock Lee', 'Simon', 'Touko Aozaki', 'Vash The Stampede',\n",
       "       'Jiraiya', 'Yuuji Kazami', 'Keiichi Maebara', 'Archer',\n",
       "       'Armin Arlert', 'Rider', 'Goku', 'Saber', 'Kunio Yaobi',\n",
       "       'Renton Thurston', 'Maka Albarn', 'Akame', 'Canaan',\n",
       "       'Armin Arlelt', 'Ichigo Kurosaki', 'Nico Robin', 'Hiroshi Kido',\n",
       "       'Kanade Jinguuji', 'Nico Yazawa', 'Princess Lenessia', 'Nobito',\n",
       "       'Izuku Midoriya', 'Allen Walker', 'Shintaro Midorima', 'Sora',\n",
       "       'Roy Mustang', 'Gildarts Clive', 'Matsumoto Rangiku',\n",
       "       'Miss Kobayashi', 'Clare', 'Hitsugaya Toshiro', 'Alibaba Saluja',\n",
       "       'Don Quixote Doflamingo', 'Mavis Vermillion', 'Satsuki Kiryuuin',\n",
       "       'Sebastian Michaelis', 'Might Guy', 'Yato', 'Grimsley', 'Son Goku',\n",
       "       'Hatsu Kominato', 'Erza Scarlet', 'Haruhi Fujioka', 'Paine',\n",
       "       'Keima Katsuragi', 'Erwin Smith', 'Jet Black', 'Kyousuke Natsume',\n",
       "       'Kagome', 'Edward Elric ', 'Roronoa Zoro',\n",
       "       'Julis Alexia Van Riessfeld', 'Junichirou Kagami', 'Mion Sonozaki',\n",
       "       'Gilgamesh', 'Eren', 'Miche Zacharius', 'Hange\\xa0Zoë', 'Ymir',\n",
       "       'Kenny Ackerman', 'Mikasa', 'Levi Ackerman', 'Shoyo Hinata',\n",
       "       'Tobio Kageyama', 'Yuu Nishinoya', 'Tanaka Saeko',\n",
       "       'Ittetsu Takeda', 'Tooru Oikawa'], dtype=object)"
      ]
     },
     "execution_count": 3,
     "metadata": {},
     "output_type": "execute_result"
    }
   ],
   "source": [
    "characters = df['Character'].unique()\n",
    "anime = df['Anime'].unique()\n",
    "characters"
   ]
  },
  {
   "cell_type": "code",
   "execution_count": 4,
   "id": "8306b228",
   "metadata": {},
   "outputs": [],
   "source": [
    "# Define stopwords\n",
    "stopwords = nltk.corpus.stopwords.words('english')\n",
    "\n",
    "# Create TF-IDF vectorizer\n",
    "vectorizer = TfidfVectorizer(stop_words=stopwords)\n",
    "\n",
    "# Fit and transform the quote column\n",
    "quote_vectors = vectorizer.fit_transform(df['Quote'])\n"
   ]
  },
  {
   "cell_type": "code",
   "execution_count": 5,
   "id": "5d47ebf6",
   "metadata": {},
   "outputs": [],
   "source": [
    "def get_quote(character, anime):\n",
    "    # Filter the dataframe by character and anime name\n",
    "    filtered_df = df[(df['Character'] == character) & (df['Anime'] == anime)]\n",
    "    \n",
    "    # If no quotes found for the given character and anime, return an error message\n",
    "    if filtered_df.empty:\n",
    "        return f\"Sorry, I couldn't find any quotes by {character} in {anime}.\"\n",
    "    \n",
    "    # Create TF-IDF vectors for the filtered quotes\n",
    "    filtered_quote_vectors = vectorizer.transform(filtered_df['Quote'])\n",
    "    \n",
    "    # Calculate cosine similarity between the query vector and all filtered quote vectors\n",
    "    similarities = cosine_similarity(filtered_quote_vectors, quote_vectors)\n",
    "    \n",
    "    # Get the index of the most similar quote to the query\n",
    "    quote_index = similarities.argmax()\n",
    "    \n",
    "    # Get the quote text from the original dataframe using the quote index\n",
    "    quote = df.iloc[quote_index]['Quote']\n",
    "    \n",
    "    return quote"
   ]
  },
  {
   "cell_type": "code",
   "execution_count": null,
   "id": "51df8287",
   "metadata": {},
   "outputs": [
    {
     "name": "stdout",
     "output_type": "stream",
     "text": [
      "Enter a phrase to get a quote (e.g. 'give me a quote by Naruto Uzumaki from Naruto'): give me a quote by Monkey D Luffy from One Piece\n",
      "If you don’t take risks, you can’t create a future!\n",
      "Do you want another quote by this character? (y/n): y\n",
      "Enter a phrase to get a quote (e.g. 'give me a quote by Naruto Uzumaki from Naruto'): give me a quote by Eren from Attack on Titan\n",
      "It Doesn t Matter How Strong The Opposition Is It Doesn t Matter How Fearsome The World Is It Doesn t Matter How Cruel The World Is Fight\n"
     ]
    }
   ],
   "source": [
    "#Testing the Chatbot\n",
    "while True:\n",
    "    # Get user input\n",
    "    user_input = input(\"Enter a phrase to get a quote (e.g. 'give me a quote by Naruto Uzumaki from Naruto'): \")\n",
    "    \n",
    "    # Parse user input to extract character and anime names\n",
    "    character = user_input.split('by ')[1].split(' from ')[0]\n",
    "    anime = user_input.split('from ')[1]\n",
    "    \n",
    "    # Get a quote for the given character and anime\n",
    "    quote = get_quote(character, anime)\n",
    "    \n",
    "    print(quote)\n",
    "    \n",
    "    # Ask user if they want another quote\n",
    "    user_input = input(\"Do you want another quote by this character? (y/n): \")\n",
    "    \n",
    "    if user_input.lower() == 'n':\n",
    "        break\n"
   ]
  },
  {
   "cell_type": "code",
   "execution_count": null,
   "id": "1af97a8c",
   "metadata": {},
   "outputs": [],
   "source": [
    "give me a quote by Monkey D Luffy from One Piece\n",
    "give me a quote by Eren from Attack on Titan"
   ]
  },
  {
   "cell_type": "code",
   "execution_count": null,
   "id": "536c502a",
   "metadata": {},
   "outputs": [],
   "source": []
  }
 ],
 "metadata": {
  "kernelspec": {
   "display_name": "Python 3 (ipykernel)",
   "language": "python",
   "name": "python3"
  },
  "language_info": {
   "codemirror_mode": {
    "name": "ipython",
    "version": 3
   },
   "file_extension": ".py",
   "mimetype": "text/x-python",
   "name": "python",
   "nbconvert_exporter": "python",
   "pygments_lexer": "ipython3",
   "version": "3.10.9"
  }
 },
 "nbformat": 4,
 "nbformat_minor": 5
}
